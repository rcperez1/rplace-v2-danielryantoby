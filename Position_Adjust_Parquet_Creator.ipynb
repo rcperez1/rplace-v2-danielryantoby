{
 "cells": [
  {
   "cell_type": "code",
   "execution_count": 18,
   "id": "214af93d-aeb9-47e9-a57b-7bbb5bd1d7ff",
   "metadata": {
    "tags": []
   },
   "outputs": [],
   "source": [
    "import polars as pl\n",
    "\n",
    "#Using previously made parquet file from parquet_creation.ipynb\n",
    "lf = pl.scan_parquet(\"C:/Users/diamo/OneDrive - Cal Poly/MSBA/Cloud Services/rplace_final.parquet\")"
   ]
  },
  {
   "cell_type": "code",
   "execution_count": 19,
   "id": "20ba3763-5c33-4a34-a43e-a766651f18b8",
   "metadata": {
    "tags": []
   },
   "outputs": [],
   "source": [
    "from datetime import datetime"
   ]
  },
  {
   "cell_type": "code",
   "execution_count": 20,
   "id": "0dd4a77d-3448-4917-aca6-1051d9e954d5",
   "metadata": {},
   "outputs": [],
   "source": [
    "def canvas_size(timestamp):\n",
    "    if timestamp < datetime(2023,7,21,16,0,29,0):\n",
    "        x_size = 1000\n",
    "        y_size = 1000\n",
    "    elif timestamp < datetime(2023,7,22,8,16,11,0):\n",
    "        x_size = 1500\n",
    "        y_size = 1000\n",
    "    elif timestamp < datetime(2023,7,22,23,3,10,0):\n",
    "        x_size = 2000\n",
    "        y_size = 1000\n",
    "    elif timestamp < datetime(2023,7,23,18,0,17,0):\n",
    "        x_size = 2000\n",
    "        y_size = 1500\n",
    "    elif timestamp < datetime(2023,7,24,2,0,8,0):\n",
    "        x_size = 2000\n",
    "        y_size = 2000\n",
    "    elif timestamp < datetime(2023,7,24,17,33,37,0):\n",
    "        x_size = 2500\n",
    "        y_size = 2000\n",
    "    else:\n",
    "        x_size = 3000\n",
    "        y_size = 2000\n",
    "    return x_size,y_size"
   ]
  },
  {
   "cell_type": "code",
   "execution_count": 21,
   "id": "060a47cf-1441-40ec-8703-94b0c5cb62f2",
   "metadata": {
    "tags": []
   },
   "outputs": [],
   "source": [
    "# Use the canvas_size function within with_columns\n",
    "lf = lf.with_columns(\n",
    "    pl.when(pl.col('timestamp') < datetime(2023,7,21,16,0,29,0)).then(pl.col('x') / 1000).otherwise(\n",
    "        pl.when(pl.col('timestamp') < datetime(2023,7,22,8,16,11,0)).then(pl.col('x') / 1500).otherwise(\n",
    "            pl.when(pl.col('timestamp') < datetime(2023,7,22,23,3,10,0)).then(pl.col('x') / 2000).otherwise(\n",
    "                pl.when(pl.col('timestamp') < datetime(2023,7,23,18,0,17,0)).then(pl.col('x') / 2000).otherwise(\n",
    "                    pl.when(pl.col('timestamp') < datetime(2023,7,24,2,0,8,0)).then(pl.col('x') / 2000).otherwise(\n",
    "                        pl.when(pl.col('timestamp') < datetime(2023,7,24,17,33,37,0)).then(pl.col('x') / 2500).otherwise(\n",
    "                            pl.col('x') / 3000\n",
    "                        )\n",
    "                    )\n",
    "                )\n",
    "            )\n",
    "        )\n",
    "    ).alias('x_rel'),\n",
    "    pl.when(pl.col('timestamp') < datetime(2023,7,21,16,0,29,0)).then(pl.col('y') / 1000).otherwise(\n",
    "        pl.when(pl.col('timestamp') < datetime(2023,7,22,8,16,11,0)).then(pl.col('y') / 1000).otherwise(\n",
    "            pl.when(pl.col('timestamp') < datetime(2023,7,22,23,3,10,0)).then(pl.col('y') / 1000).otherwise(\n",
    "                pl.when(pl.col('timestamp') < datetime(2023,7,23,18,0,17,0)).then(pl.col('y') / 1500).otherwise(\n",
    "                    pl.when(pl.col('timestamp') < datetime(2023,7,24,2,0,8,0)).then(pl.col('y') / 2000).otherwise(\n",
    "                        pl.when(pl.col('timestamp') < datetime(2023,7,24,17,33,37,0)).then(pl.col('y') / 2000).otherwise(\n",
    "                            pl.col('y') / 2000\n",
    "                        )\n",
    "                    )\n",
    "                )\n",
    "            )\n",
    "        )\n",
    "    ).alias('y_rel')\n",
    ")\n"
   ]
  },
  {
   "cell_type": "code",
   "execution_count": 24,
   "id": "57d40490-f2a7-42d7-a840-e7ad7d549a68",
   "metadata": {
    "tags": []
   },
   "outputs": [],
   "source": [
    "lf.sink_parquet(\"rplace_pos.parquet\")"
   ]
  },
  {
   "cell_type": "code",
   "execution_count": null,
   "id": "23ae3b0f-cc58-4d8e-b3dc-6d0a17f28bac",
   "metadata": {},
   "outputs": [],
   "source": []
  }
 ],
 "metadata": {
  "kernelspec": {
   "display_name": "Python 3 (ipykernel)",
   "language": "python",
   "name": "python3"
  },
  "language_info": {
   "codemirror_mode": {
    "name": "ipython",
    "version": 3
   },
   "file_extension": ".py",
   "mimetype": "text/x-python",
   "name": "python",
   "nbconvert_exporter": "python",
   "pygments_lexer": "ipython3",
   "version": "3.11.4"
  }
 },
 "nbformat": 4,
 "nbformat_minor": 5
}
